{
 "cells": [
  {
   "cell_type": "markdown",
   "id": "8c39966c",
   "metadata": {},
   "source": [
    "<hr><h1>Variable dan Tipe Data Python</h1><hr>\n",
    "<font color=\"orange\">Beberapa</font> aturan pembuatan variable di <b>Python<b>:"
   ]
  },
  {
   "cell_type": "markdown",
   "id": "d9eedf68",
   "metadata": {},
   "source": [
    "<ol>\n",
    "    <li>Bersifat case sensitf => A != a</li>\n",
    "    <li>harus diawali dengan huruf atau karakter _(underscore)</li>\n",
    "    <li>Tidak boleh menggunakan spasi</li>\n",
    "    <li>Boleh menggunkan angka</li>\n",
    "</ol>"
   ]
  },
  {
   "cell_type": "code",
   "execution_count": 10,
   "id": "147f8766",
   "metadata": {},
   "outputs": [
    {
     "name": "stdout",
     "output_type": "stream",
     "text": [
      "10\n",
      "100.9\n",
      "1\n",
      "True\n"
     ]
    }
   ],
   "source": [
    "data_int = 10\n",
    "data_float = 100.9\n",
    "data_string = '1'\n",
    "data_bool = True\n",
    "\n",
    "\n",
    "print(data_int)\n",
    "print(data_float)\n",
    "print(data_string)\n",
    "print(data_bool)\n"
   ]
  },
  {
   "cell_type": "markdown",
   "id": "83f816e1",
   "metadata": {},
   "source": [
    "untuk mengetahui tipe data dari sebuah variabel gunakan command <b>type</b>"
   ]
  },
  {
   "cell_type": "code",
   "execution_count": 23,
   "id": "d7126e33",
   "metadata": {},
   "outputs": [
    {
     "name": "stdout",
     "output_type": "stream",
     "text": [
      "<class 'int'>\n",
      "<class 'float'>\n",
      "<class 'str'>\n",
      "<class 'bool'>\n"
     ]
    }
   ],
   "source": [
    "print(type(data_int))\n",
    "print(type(data_float))\n",
    "print(type(data_string))\n",
    "print(type(data_bool))"
   ]
  },
  {
   "cell_type": "markdown",
   "id": "45a62269",
   "metadata": {},
   "source": [
    "Pada python terdapat proses <b>CASTING</b> yaitu konversi dari sebuah tipe data ke tipe data yang lain yaitu denga sintaks <b>tipe_data(nama_variabel)</b>"
   ]
  },
  {
   "cell_type": "code",
   "execution_count": 19,
   "id": "31cffc34",
   "metadata": {},
   "outputs": [
    {
     "name": "stdout",
     "output_type": "stream",
     "text": [
      "Nilai variabel data_int 10\n",
      "10.0\n",
      "10\n",
      "True\n"
     ]
    }
   ],
   "source": [
    "int_to_float = float(data_int)\n",
    "int_to_string = str(data_int)\n",
    "int_to_bool = bool(data_int)\n",
    "\n",
    "print(\"Nilai variabel data_int\",data_int)\n",
    "print(int_to_float)\n",
    "print(int_to_string)\n",
    "print(int_to_bool)\n"
   ]
  },
  {
   "cell_type": "code",
   "execution_count": 20,
   "id": "54e4f908",
   "metadata": {},
   "outputs": [
    {
     "name": "stdout",
     "output_type": "stream",
     "text": [
      "Nilai variabel data_str 1\n",
      "1\n",
      "1.0\n",
      "True\n"
     ]
    }
   ],
   "source": [
    "str_to_int = int(data_string)\n",
    "str_to_float = float(data_string)\n",
    "str_to_bool = bool(data_string)\n",
    "\n",
    "print(\"Nilai variabel data_str\",data_string)\n",
    "print(str_to_int)\n",
    "print(str_to_float)\n",
    "print(str_to_bool)\n"
   ]
  },
  {
   "cell_type": "code",
   "execution_count": 18,
   "id": "e4989dd9",
   "metadata": {},
   "outputs": [
    {
     "name": "stdout",
     "output_type": "stream",
     "text": [
      "Nilai variabel data_float 100.9\n",
      "100\n",
      "100.9\n",
      "True\n"
     ]
    }
   ],
   "source": [
    "float_to_int = int(data_float)\n",
    "float_to_str = str(data_float)\n",
    "float_to_bool = bool(data_float)\n",
    "\n",
    "print(\"Nilai variabel data_float\",data_float)\n",
    "print(float_to_int)\n",
    "print(float_to_str)\n",
    "print(float_to_bool)"
   ]
  },
  {
   "cell_type": "code",
   "execution_count": 21,
   "id": "b2dd4ff3",
   "metadata": {},
   "outputs": [
    {
     "name": "stdout",
     "output_type": "stream",
     "text": [
      "Nilai variabel data_bool True\n",
      "1\n",
      "True\n",
      "1.0\n"
     ]
    }
   ],
   "source": [
    "bool_to_int = int(data_bool)\n",
    "bool_to_str = str(data_bool)\n",
    "bool_to_float = float(data_bool)\n",
    "\n",
    "print(\"Nilai variabel data_bool\",data_bool)\n",
    "print(bool_to_int)\n",
    "print(bool_to_str)\n",
    "print(bool_to_float)"
   ]
  },
  {
   "cell_type": "code",
   "execution_count": 32,
   "id": "240b09e9",
   "metadata": {},
   "outputs": [
    {
     "name": "stdout",
     "output_type": "stream",
     "text": [
      "isikan bilangan 1 = 4\n",
      "isikan bilangan 2 = 5\n",
      "\n",
      "Hasil penjumlahan =  9\n",
      "Hasil pembagian =  0.8\n",
      "Hasil perkalian = 20\n",
      "/nHasil perkurangan =  -1\n"
     ]
    }
   ],
   "source": [
    "bil1 = int(input(\"isikan bilangan 1 = \"))\n",
    "bil2 = int(input(\"isikan bilangan 2 = \"))\n",
    "hasil_tambah = bil1 + bil2 \n",
    "hasil_bagi = bil1 / bil2\n",
    "hasil_kali = bil1 * bil2\n",
    "hasil_kurang = bil1 - bil2 \n",
    "print(\"\")\n",
    "print(\"Hasil penjumlahan = \",hasil_tambah)\n",
    "print(\"Hasil pembagian = \",hasil_bagi)\n",
    "print(\"Hasil perkalian =\",hasil_kali)\n",
    "print(\"Hasil perkurangan = \",hasil_kurang)"
   ]
  }
 ],
 "metadata": {
  "kernelspec": {
   "display_name": "Python 3 (ipykernel)",
   "language": "python",
   "name": "python3"
  },
  "language_info": {
   "codemirror_mode": {
    "name": "ipython",
    "version": 3
   },
   "file_extension": ".py",
   "mimetype": "text/x-python",
   "name": "python",
   "nbconvert_exporter": "python",
   "pygments_lexer": "ipython3",
   "version": "3.9.12"
  }
 },
 "nbformat": 4,
 "nbformat_minor": 5
}
